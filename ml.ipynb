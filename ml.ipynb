{
 "cells": [
  {
   "cell_type": "code",
   "execution_count": 747,
   "metadata": {},
   "outputs": [],
   "source": [
    "import pandas as pd\n",
    "import numpy as np\n",
    "\n",
    "from gensim.models.doc2vec import Doc2Vec, TaggedDocument\n",
    "from gensim.models import Word2Vec\n",
    "\n",
    "import re"
   ]
  },
  {
   "cell_type": "code",
   "execution_count": 912,
   "metadata": {},
   "outputs": [],
   "source": [
    "text_df = pd.read_csv('./dataset/clean_text.csv', index_col=0)\n",
    "pos_text_df = pd.read_csv('./dataset/positive_text.csv', index_col=0)\n",
    "grouped_text_df = pd.read_csv('./dataset/grouped_text.csv', index_col=0)\n",
    "grouped_pos_text_df = pd.read_csv('./dataset/grouped_positive_text.csv', index_col=0)\n",
    "menu_desc_df = pd.read_csv('./dataset/menu_desc_df.csv', index_col=0)\n",
    "menu_title_df = pd.read_csv('./dataset/menu_title_df.csv', index_col=0)"
   ]
  },
  {
   "cell_type": "code",
   "execution_count": 1085,
   "metadata": {},
   "outputs": [],
   "source": [
    "# Utilize helper functions\n",
    "%run helper_function.ipynb"
   ]
  },
  {
   "cell_type": "markdown",
   "metadata": {},
   "source": [
    "## Introduction"
   ]
  },
  {
   "cell_type": "markdown",
   "metadata": {},
   "source": [
    "In this machine learning file, I'll be creating three Doc2Vec models to represent words and documents into numerical vectors. Each Doc2Vec model will be built and trained using Yelp's review/tips, menu description, and menu titles. The idea behind building three Doc2Vec models is to consolidate search results which consists of most similar documents based on the user's search query using cosine similarity and built-in Doc2Vec's most_similar method. The top 10 documents will be chosen in one of following ways:\n",
    "\n",
    "1. When there are common documents populated in all three results; the document will be added as part of the final result. For instance, when a restaurant named 'Panda Express' is shown in all three Doc2Vec results, Panda Express will be shown as part of the final result visible to the user.\n",
    "    - When similar restaurant names do not accumulate up to 10; the rest will be determined based on cosine similarity score.\n",
    "2. When no common documents are found through three Doc2Vec results, all three results will be consolidated and results will be shown based on cosine similarity score in descending order.\n",
    "\n",
    "Below is overview of NLP search engine's control flow:"
   ]
  },
  {
   "cell_type": "markdown",
   "metadata": {},
   "source": [
    "<img src=\"imgs/search_overview_img.png\" alt=\"control_flow\" style=\"width: 50%;\"/>"
   ]
  },
  {
   "cell_type": "markdown",
   "metadata": {},
   "source": [
    "### Resolving NaNs on menu dataframes"
   ]
  },
  {
   "cell_type": "code",
   "execution_count": 1002,
   "metadata": {},
   "outputs": [],
   "source": [
    "menu_title_df.loc[menu_df['clean_menu_titles'].isna(), 'clean_menu_titles'] = menu_title_df['name']"
   ]
  },
  {
   "cell_type": "code",
   "execution_count": 1004,
   "metadata": {},
   "outputs": [],
   "source": [
    "menu_desc_df.dropna(inplace=True)"
   ]
  },
  {
   "cell_type": "markdown",
   "metadata": {},
   "source": [
    "## Datasets\n",
    "Datasets to be used in building doc2vec and TF-IDF models."
   ]
  },
  {
   "cell_type": "markdown",
   "metadata": {},
   "source": [
    "### Menu description\n",
    "Menu description dataset contains menu description that describes food and drinks."
   ]
  },
  {
   "cell_type": "code",
   "execution_count": 996,
   "metadata": {},
   "outputs": [
    {
     "data": {
      "text/html": [
       "<div>\n",
       "<style scoped>\n",
       "    .dataframe tbody tr th:only-of-type {\n",
       "        vertical-align: middle;\n",
       "    }\n",
       "\n",
       "    .dataframe tbody tr th {\n",
       "        vertical-align: top;\n",
       "    }\n",
       "\n",
       "    .dataframe thead th {\n",
       "        text-align: right;\n",
       "    }\n",
       "</style>\n",
       "<table border=\"1\" class=\"dataframe\">\n",
       "  <thead>\n",
       "    <tr style=\"text-align: right;\">\n",
       "      <th></th>\n",
       "      <th>name</th>\n",
       "      <th>clean_menu_desc</th>\n",
       "      <th>popularity_score</th>\n",
       "    </tr>\n",
       "  </thead>\n",
       "  <tbody>\n",
       "    <tr>\n",
       "      <th>0</th>\n",
       "      <td>cabo fish taco</td>\n",
       "      <td>pipe hot melted cheese blend chipotle pepper s...</td>\n",
       "      <td>92.00</td>\n",
       "    </tr>\n",
       "    <tr>\n",
       "      <th>1</th>\n",
       "      <td>cabo fish taco</td>\n",
       "      <td>a house blend avocado lime juice cilantro sign...</td>\n",
       "      <td>92.00</td>\n",
       "    </tr>\n",
       "    <tr>\n",
       "      <th>2</th>\n",
       "      <td>cabo fish taco</td>\n",
       "      <td>beer batter calamari ring flash fry serve roas...</td>\n",
       "      <td>92.00</td>\n",
       "    </tr>\n",
       "    <tr>\n",
       "      <th>3</th>\n",
       "      <td>cabo fish taco</td>\n",
       "      <td>creamy dip lump crabmeat seasoned shrimp serve...</td>\n",
       "      <td>92.00</td>\n",
       "    </tr>\n",
       "    <tr>\n",
       "      <th>4</th>\n",
       "      <td>cabo fish taco</td>\n",
       "      <td>roasted red tomato salsa fresh pineapple mango...</td>\n",
       "      <td>92.00</td>\n",
       "    </tr>\n",
       "    <tr>\n",
       "      <th>...</th>\n",
       "      <td>...</td>\n",
       "      <td>...</td>\n",
       "      <td>...</td>\n",
       "    </tr>\n",
       "    <tr>\n",
       "      <th>313948</th>\n",
       "      <td>fuji</td>\n",
       "      <td>chicken</td>\n",
       "      <td>83.61</td>\n",
       "    </tr>\n",
       "    <tr>\n",
       "      <th>313949</th>\n",
       "      <td>fuji</td>\n",
       "      <td>filet mignon</td>\n",
       "      <td>83.61</td>\n",
       "    </tr>\n",
       "    <tr>\n",
       "      <th>313950</th>\n",
       "      <td>fuji</td>\n",
       "      <td>shrimp scallops</td>\n",
       "      <td>83.61</td>\n",
       "    </tr>\n",
       "    <tr>\n",
       "      <th>313951</th>\n",
       "      <td>fuji</td>\n",
       "      <td>steak chicken</td>\n",
       "      <td>83.61</td>\n",
       "    </tr>\n",
       "    <tr>\n",
       "      <th>313952</th>\n",
       "      <td>fuji</td>\n",
       "      <td>chicken shrimp</td>\n",
       "      <td>83.61</td>\n",
       "    </tr>\n",
       "  </tbody>\n",
       "</table>\n",
       "<p>313953 rows × 3 columns</p>\n",
       "</div>"
      ],
      "text/plain": [
       "                  name                                    clean_menu_desc  \\\n",
       "0       cabo fish taco  pipe hot melted cheese blend chipotle pepper s...   \n",
       "1       cabo fish taco  a house blend avocado lime juice cilantro sign...   \n",
       "2       cabo fish taco  beer batter calamari ring flash fry serve roas...   \n",
       "3       cabo fish taco  creamy dip lump crabmeat seasoned shrimp serve...   \n",
       "4       cabo fish taco  roasted red tomato salsa fresh pineapple mango...   \n",
       "...                ...                                                ...   \n",
       "313948            fuji                                            chicken   \n",
       "313949            fuji                                       filet mignon   \n",
       "313950            fuji                                    shrimp scallops   \n",
       "313951            fuji                                      steak chicken   \n",
       "313952            fuji                                     chicken shrimp   \n",
       "\n",
       "        popularity_score  \n",
       "0                  92.00  \n",
       "1                  92.00  \n",
       "2                  92.00  \n",
       "3                  92.00  \n",
       "4                  92.00  \n",
       "...                  ...  \n",
       "313948             83.61  \n",
       "313949             83.61  \n",
       "313950             83.61  \n",
       "313951             83.61  \n",
       "313952             83.61  \n",
       "\n",
       "[313953 rows x 3 columns]"
      ]
     },
     "execution_count": 996,
     "metadata": {},
     "output_type": "execute_result"
    }
   ],
   "source": [
    "menu_desc_df"
   ]
  },
  {
   "cell_type": "markdown",
   "metadata": {},
   "source": [
    "### Menu title\n",
    "Menu title dataset contains food and drink items each restaurants are serving."
   ]
  },
  {
   "cell_type": "code",
   "execution_count": 4,
   "metadata": {},
   "outputs": [
    {
     "data": {
      "text/html": [
       "<div>\n",
       "<style scoped>\n",
       "    .dataframe tbody tr th:only-of-type {\n",
       "        vertical-align: middle;\n",
       "    }\n",
       "\n",
       "    .dataframe tbody tr th {\n",
       "        vertical-align: top;\n",
       "    }\n",
       "\n",
       "    .dataframe thead th {\n",
       "        text-align: right;\n",
       "    }\n",
       "</style>\n",
       "<table border=\"1\" class=\"dataframe\">\n",
       "  <thead>\n",
       "    <tr style=\"text-align: right;\">\n",
       "      <th></th>\n",
       "      <th>name</th>\n",
       "      <th>clean_menu_titles</th>\n",
       "      <th>popularity_score</th>\n",
       "    </tr>\n",
       "  </thead>\n",
       "  <tbody>\n",
       "    <tr>\n",
       "      <th>0</th>\n",
       "      <td>cabo fish taco</td>\n",
       "      <td>queso dip</td>\n",
       "      <td>92.0</td>\n",
       "    </tr>\n",
       "    <tr>\n",
       "      <th>1</th>\n",
       "      <td>cabo fish taco</td>\n",
       "      <td>guacamole</td>\n",
       "      <td>92.0</td>\n",
       "    </tr>\n",
       "    <tr>\n",
       "      <th>2</th>\n",
       "      <td>cabo fish taco</td>\n",
       "      <td>crispy calamari</td>\n",
       "      <td>92.0</td>\n",
       "    </tr>\n",
       "    <tr>\n",
       "      <th>3</th>\n",
       "      <td>cabo fish taco</td>\n",
       "      <td>baja shrimp crab dip</td>\n",
       "      <td>92.0</td>\n",
       "    </tr>\n",
       "    <tr>\n",
       "      <th>4</th>\n",
       "      <td>cabo fish taco</td>\n",
       "      <td>salsa trio</td>\n",
       "      <td>92.0</td>\n",
       "    </tr>\n",
       "  </tbody>\n",
       "</table>\n",
       "</div>"
      ],
      "text/plain": [
       "             name     clean_menu_titles  popularity_score\n",
       "0  cabo fish taco             queso dip              92.0\n",
       "1  cabo fish taco             guacamole              92.0\n",
       "2  cabo fish taco       crispy calamari              92.0\n",
       "3  cabo fish taco  baja shrimp crab dip              92.0\n",
       "4  cabo fish taco            salsa trio              92.0"
      ]
     },
     "execution_count": 4,
     "metadata": {},
     "output_type": "execute_result"
    }
   ],
   "source": [
    "menu_title_df.head()"
   ]
  },
  {
   "cell_type": "markdown",
   "metadata": {},
   "source": [
    "### Grouped positive review texts\n",
    "Grouped positive review texts' dataset contains consolidated positive review texts per restaurant."
   ]
  },
  {
   "cell_type": "code",
   "execution_count": 5,
   "metadata": {},
   "outputs": [
    {
     "data": {
      "text/html": [
       "<div>\n",
       "<style scoped>\n",
       "    .dataframe tbody tr th:only-of-type {\n",
       "        vertical-align: middle;\n",
       "    }\n",
       "\n",
       "    .dataframe tbody tr th {\n",
       "        vertical-align: top;\n",
       "    }\n",
       "\n",
       "    .dataframe thead th {\n",
       "        text-align: right;\n",
       "    }\n",
       "</style>\n",
       "<table border=\"1\" class=\"dataframe\">\n",
       "  <thead>\n",
       "    <tr style=\"text-align: right;\">\n",
       "      <th></th>\n",
       "      <th>name</th>\n",
       "      <th>clean_text</th>\n",
       "      <th>popularity_score</th>\n",
       "    </tr>\n",
       "  </thead>\n",
       "  <tbody>\n",
       "    <tr>\n",
       "      <th>0</th>\n",
       "      <td>#1 pho</td>\n",
       "      <td>fantastic pho vegetable pho vegetable broth fr...</td>\n",
       "      <td>78.00</td>\n",
       "    </tr>\n",
       "    <tr>\n",
       "      <th>1</th>\n",
       "      <td>24th street pizza &amp; gyros</td>\n",
       "      <td>gyro pizza pretty fantastic thing keep come de...</td>\n",
       "      <td>80.00</td>\n",
       "    </tr>\n",
       "    <tr>\n",
       "      <th>2</th>\n",
       "      <td>3 tomatoes &amp; a mozzarella</td>\n",
       "      <td>absolutely delicious customer go today single ...</td>\n",
       "      <td>76.19</td>\n",
       "    </tr>\n",
       "    <tr>\n",
       "      <th>3</th>\n",
       "      <td>4b cafe</td>\n",
       "      <td>good consensus average home fairly easily emul...</td>\n",
       "      <td>100.00</td>\n",
       "    </tr>\n",
       "    <tr>\n",
       "      <th>4</th>\n",
       "      <td>5 r cha thai go</td>\n",
       "      <td>yum yum yum try dynamite fried rice amazing fi...</td>\n",
       "      <td>83.00</td>\n",
       "    </tr>\n",
       "  </tbody>\n",
       "</table>\n",
       "</div>"
      ],
      "text/plain": [
       "                        name  \\\n",
       "0                     #1 pho   \n",
       "1  24th street pizza & gyros   \n",
       "2  3 tomatoes & a mozzarella   \n",
       "3                    4b cafe   \n",
       "4            5 r cha thai go   \n",
       "\n",
       "                                          clean_text  popularity_score  \n",
       "0  fantastic pho vegetable pho vegetable broth fr...             78.00  \n",
       "1  gyro pizza pretty fantastic thing keep come de...             80.00  \n",
       "2  absolutely delicious customer go today single ...             76.19  \n",
       "3  good consensus average home fairly easily emul...            100.00  \n",
       "4  yum yum yum try dynamite fried rice amazing fi...             83.00  "
      ]
     },
     "execution_count": 5,
     "metadata": {},
     "output_type": "execute_result"
    }
   ],
   "source": [
    "grouped_pos_text_df.head()"
   ]
  },
  {
   "cell_type": "markdown",
   "metadata": {},
   "source": [
    "### Grouped review texts\n",
    "Grouped review texts' dataset contains consolidated positive and negative review texts per restaurant."
   ]
  },
  {
   "cell_type": "code",
   "execution_count": 7,
   "metadata": {},
   "outputs": [
    {
     "data": {
      "text/html": [
       "<div>\n",
       "<style scoped>\n",
       "    .dataframe tbody tr th:only-of-type {\n",
       "        vertical-align: middle;\n",
       "    }\n",
       "\n",
       "    .dataframe tbody tr th {\n",
       "        vertical-align: top;\n",
       "    }\n",
       "\n",
       "    .dataframe thead th {\n",
       "        text-align: right;\n",
       "    }\n",
       "</style>\n",
       "<table border=\"1\" class=\"dataframe\">\n",
       "  <thead>\n",
       "    <tr style=\"text-align: right;\">\n",
       "      <th></th>\n",
       "      <th>name</th>\n",
       "      <th>clean_text</th>\n",
       "      <th>popularity_score</th>\n",
       "    </tr>\n",
       "  </thead>\n",
       "  <tbody>\n",
       "    <tr>\n",
       "      <th>0</th>\n",
       "      <td>#1 pho</td>\n",
       "      <td>fantastic pho vegetable pho vegetable broth fr...</td>\n",
       "      <td>78.00</td>\n",
       "    </tr>\n",
       "    <tr>\n",
       "      <th>1</th>\n",
       "      <td>24th street pizza &amp; gyros</td>\n",
       "      <td>change ownership stop day advertise pizza slic...</td>\n",
       "      <td>80.00</td>\n",
       "    </tr>\n",
       "    <tr>\n",
       "      <th>2</th>\n",
       "      <td>3 tomatoes &amp; a mozzarella</td>\n",
       "      <td>absolutely delicious customer go today single ...</td>\n",
       "      <td>72.52</td>\n",
       "    </tr>\n",
       "    <tr>\n",
       "      <th>3</th>\n",
       "      <td>4b cafe</td>\n",
       "      <td>good consensus average home fairly easily emul...</td>\n",
       "      <td>100.00</td>\n",
       "    </tr>\n",
       "    <tr>\n",
       "      <th>4</th>\n",
       "      <td>5 r cha thai go</td>\n",
       "      <td>try r cha today turn permanently close very sa...</td>\n",
       "      <td>83.00</td>\n",
       "    </tr>\n",
       "  </tbody>\n",
       "</table>\n",
       "</div>"
      ],
      "text/plain": [
       "                        name  \\\n",
       "0                     #1 pho   \n",
       "1  24th street pizza & gyros   \n",
       "2  3 tomatoes & a mozzarella   \n",
       "3                    4b cafe   \n",
       "4            5 r cha thai go   \n",
       "\n",
       "                                          clean_text  popularity_score  \n",
       "0  fantastic pho vegetable pho vegetable broth fr...             78.00  \n",
       "1  change ownership stop day advertise pizza slic...             80.00  \n",
       "2  absolutely delicious customer go today single ...             72.52  \n",
       "3  good consensus average home fairly easily emul...            100.00  \n",
       "4  try r cha today turn permanently close very sa...             83.00  "
      ]
     },
     "execution_count": 7,
     "metadata": {},
     "output_type": "execute_result"
    }
   ],
   "source": [
    "grouped_text_df.head()"
   ]
  },
  {
   "cell_type": "markdown",
   "metadata": {},
   "source": [
    "### Positive review texts\n",
    "Positive review texts' dataset contains positive review texts with duplicated restaurant list."
   ]
  },
  {
   "cell_type": "code",
   "execution_count": 8,
   "metadata": {},
   "outputs": [
    {
     "data": {
      "text/html": [
       "<div>\n",
       "<style scoped>\n",
       "    .dataframe tbody tr th:only-of-type {\n",
       "        vertical-align: middle;\n",
       "    }\n",
       "\n",
       "    .dataframe tbody tr th {\n",
       "        vertical-align: top;\n",
       "    }\n",
       "\n",
       "    .dataframe thead th {\n",
       "        text-align: right;\n",
       "    }\n",
       "</style>\n",
       "<table border=\"1\" class=\"dataframe\">\n",
       "  <thead>\n",
       "    <tr style=\"text-align: right;\">\n",
       "      <th></th>\n",
       "      <th>name</th>\n",
       "      <th>clean_text</th>\n",
       "      <th>popularity_score</th>\n",
       "    </tr>\n",
       "  </thead>\n",
       "  <tbody>\n",
       "    <tr>\n",
       "      <th>1</th>\n",
       "      <td>pink taco</td>\n",
       "      <td>holy heck chicken taco far favorite great cust...</td>\n",
       "      <td>87.0</td>\n",
       "    </tr>\n",
       "    <tr>\n",
       "      <th>2</th>\n",
       "      <td>vito's pizza</td>\n",
       "      <td>be chicago style deep dish homemade type crust...</td>\n",
       "      <td>91.0</td>\n",
       "    </tr>\n",
       "    <tr>\n",
       "      <th>3</th>\n",
       "      <td>lao laan-xang restaurant</td>\n",
       "      <td>easily favorite madison great lao thai curry f...</td>\n",
       "      <td>95.0</td>\n",
       "    </tr>\n",
       "    <tr>\n",
       "      <th>4</th>\n",
       "      <td>rosati's pizza</td>\n",
       "      <td>more pizza this location small cozy have large...</td>\n",
       "      <td>71.0</td>\n",
       "    </tr>\n",
       "    <tr>\n",
       "      <th>5</th>\n",
       "      <td>bouchon</td>\n",
       "      <td>bouchon favorite hand extremly fresh eat bouch...</td>\n",
       "      <td>93.0</td>\n",
       "    </tr>\n",
       "  </tbody>\n",
       "</table>\n",
       "</div>"
      ],
      "text/plain": [
       "                       name  \\\n",
       "1                 pink taco   \n",
       "2              vito's pizza   \n",
       "3  lao laan-xang restaurant   \n",
       "4            rosati's pizza   \n",
       "5                   bouchon   \n",
       "\n",
       "                                          clean_text  popularity_score  \n",
       "1  holy heck chicken taco far favorite great cust...              87.0  \n",
       "2  be chicago style deep dish homemade type crust...              91.0  \n",
       "3  easily favorite madison great lao thai curry f...              95.0  \n",
       "4  more pizza this location small cozy have large...              71.0  \n",
       "5  bouchon favorite hand extremly fresh eat bouch...              93.0  "
      ]
     },
     "execution_count": 8,
     "metadata": {},
     "output_type": "execute_result"
    }
   ],
   "source": [
    "pos_text_df.head()"
   ]
  },
  {
   "cell_type": "markdown",
   "metadata": {},
   "source": [
    "### Review texts\n",
    "Review texts' dataset contains both positive and negative review texts with duplicated restaurant list."
   ]
  },
  {
   "cell_type": "code",
   "execution_count": 11,
   "metadata": {},
   "outputs": [
    {
     "data": {
      "text/html": [
       "<div>\n",
       "<style scoped>\n",
       "    .dataframe tbody tr th:only-of-type {\n",
       "        vertical-align: middle;\n",
       "    }\n",
       "\n",
       "    .dataframe tbody tr th {\n",
       "        vertical-align: top;\n",
       "    }\n",
       "\n",
       "    .dataframe thead th {\n",
       "        text-align: right;\n",
       "    }\n",
       "</style>\n",
       "<table border=\"1\" class=\"dataframe\">\n",
       "  <thead>\n",
       "    <tr style=\"text-align: right;\">\n",
       "      <th></th>\n",
       "      <th>name</th>\n",
       "      <th>clean_text</th>\n",
       "      <th>popularity_score</th>\n",
       "    </tr>\n",
       "  </thead>\n",
       "  <tbody>\n",
       "    <tr>\n",
       "      <th>0</th>\n",
       "      <td>pink taco</td>\n",
       "      <td>p.m. super bowl sunday close weak wonder hard ...</td>\n",
       "      <td>87.0</td>\n",
       "    </tr>\n",
       "    <tr>\n",
       "      <th>1</th>\n",
       "      <td>pink taco</td>\n",
       "      <td>holy heck chicken taco far favorite great cust...</td>\n",
       "      <td>87.0</td>\n",
       "    </tr>\n",
       "    <tr>\n",
       "      <th>2</th>\n",
       "      <td>vito's pizza</td>\n",
       "      <td>be chicago style deep dish homemade type crust...</td>\n",
       "      <td>91.0</td>\n",
       "    </tr>\n",
       "    <tr>\n",
       "      <th>3</th>\n",
       "      <td>lao laan-xang restaurant</td>\n",
       "      <td>easily favorite madison great lao thai curry f...</td>\n",
       "      <td>95.0</td>\n",
       "    </tr>\n",
       "    <tr>\n",
       "      <th>4</th>\n",
       "      <td>rosati's pizza</td>\n",
       "      <td>more pizza this location small cozy have large...</td>\n",
       "      <td>71.0</td>\n",
       "    </tr>\n",
       "  </tbody>\n",
       "</table>\n",
       "</div>"
      ],
      "text/plain": [
       "                       name  \\\n",
       "0                 pink taco   \n",
       "1                 pink taco   \n",
       "2              vito's pizza   \n",
       "3  lao laan-xang restaurant   \n",
       "4            rosati's pizza   \n",
       "\n",
       "                                          clean_text  popularity_score  \n",
       "0  p.m. super bowl sunday close weak wonder hard ...              87.0  \n",
       "1  holy heck chicken taco far favorite great cust...              87.0  \n",
       "2  be chicago style deep dish homemade type crust...              91.0  \n",
       "3  easily favorite madison great lao thai curry f...              95.0  \n",
       "4  more pizza this location small cozy have large...              71.0  "
      ]
     },
     "execution_count": 11,
     "metadata": {},
     "output_type": "execute_result"
    }
   ],
   "source": [
    "text_df.head()"
   ]
  },
  {
   "cell_type": "markdown",
   "metadata": {},
   "source": [
    "### Attributes\n",
    "Attributes' dataset contains restaurants' attributes information such as cuisine and other restaurant related attributes."
   ]
  },
  {
   "cell_type": "code",
   "execution_count": 12,
   "metadata": {},
   "outputs": [
    {
     "data": {
      "text/html": [
       "<div>\n",
       "<style scoped>\n",
       "    .dataframe tbody tr th:only-of-type {\n",
       "        vertical-align: middle;\n",
       "    }\n",
       "\n",
       "    .dataframe tbody tr th {\n",
       "        vertical-align: top;\n",
       "    }\n",
       "\n",
       "    .dataframe thead th {\n",
       "        text-align: right;\n",
       "    }\n",
       "</style>\n",
       "<table border=\"1\" class=\"dataframe\">\n",
       "  <thead>\n",
       "    <tr style=\"text-align: right;\">\n",
       "      <th></th>\n",
       "      <th>name</th>\n",
       "      <th>chinese</th>\n",
       "      <th>caribbean</th>\n",
       "      <th>bakery</th>\n",
       "      <th>salads</th>\n",
       "      <th>wraps</th>\n",
       "      <th>spanish</th>\n",
       "      <th>sushi</th>\n",
       "      <th>californian</th>\n",
       "      <th>mediterranean</th>\n",
       "      <th>...</th>\n",
       "      <th>noodles</th>\n",
       "      <th>turkish</th>\n",
       "      <th>cocktails</th>\n",
       "      <th>irish</th>\n",
       "      <th>bar</th>\n",
       "      <th>south</th>\n",
       "      <th>crepes</th>\n",
       "      <th>french</th>\n",
       "      <th>british</th>\n",
       "      <th>creole</th>\n",
       "    </tr>\n",
       "  </thead>\n",
       "  <tbody>\n",
       "    <tr>\n",
       "      <th>0</th>\n",
       "      <td>#1 pho</td>\n",
       "      <td>0</td>\n",
       "      <td>0</td>\n",
       "      <td>0</td>\n",
       "      <td>0</td>\n",
       "      <td>0</td>\n",
       "      <td>0</td>\n",
       "      <td>0</td>\n",
       "      <td>0</td>\n",
       "      <td>0</td>\n",
       "      <td>...</td>\n",
       "      <td>0</td>\n",
       "      <td>0</td>\n",
       "      <td>0</td>\n",
       "      <td>0</td>\n",
       "      <td>0</td>\n",
       "      <td>0</td>\n",
       "      <td>0</td>\n",
       "      <td>0</td>\n",
       "      <td>0</td>\n",
       "      <td>0</td>\n",
       "    </tr>\n",
       "    <tr>\n",
       "      <th>1</th>\n",
       "      <td>24th street pizza &amp; gyros</td>\n",
       "      <td>0</td>\n",
       "      <td>0</td>\n",
       "      <td>0</td>\n",
       "      <td>0</td>\n",
       "      <td>0</td>\n",
       "      <td>0</td>\n",
       "      <td>0</td>\n",
       "      <td>0</td>\n",
       "      <td>0</td>\n",
       "      <td>...</td>\n",
       "      <td>0</td>\n",
       "      <td>0</td>\n",
       "      <td>0</td>\n",
       "      <td>0</td>\n",
       "      <td>0</td>\n",
       "      <td>0</td>\n",
       "      <td>0</td>\n",
       "      <td>0</td>\n",
       "      <td>0</td>\n",
       "      <td>0</td>\n",
       "    </tr>\n",
       "    <tr>\n",
       "      <th>2</th>\n",
       "      <td>3 tomatoes &amp; a mozzarella</td>\n",
       "      <td>0</td>\n",
       "      <td>0</td>\n",
       "      <td>0</td>\n",
       "      <td>0</td>\n",
       "      <td>0</td>\n",
       "      <td>0</td>\n",
       "      <td>0</td>\n",
       "      <td>0</td>\n",
       "      <td>0</td>\n",
       "      <td>...</td>\n",
       "      <td>0</td>\n",
       "      <td>0</td>\n",
       "      <td>0</td>\n",
       "      <td>0</td>\n",
       "      <td>0</td>\n",
       "      <td>0</td>\n",
       "      <td>0</td>\n",
       "      <td>0</td>\n",
       "      <td>0</td>\n",
       "      <td>0</td>\n",
       "    </tr>\n",
       "    <tr>\n",
       "      <th>3</th>\n",
       "      <td>4b cafe</td>\n",
       "      <td>0</td>\n",
       "      <td>0</td>\n",
       "      <td>0</td>\n",
       "      <td>0</td>\n",
       "      <td>0</td>\n",
       "      <td>0</td>\n",
       "      <td>0</td>\n",
       "      <td>0</td>\n",
       "      <td>0</td>\n",
       "      <td>...</td>\n",
       "      <td>0</td>\n",
       "      <td>0</td>\n",
       "      <td>0</td>\n",
       "      <td>0</td>\n",
       "      <td>0</td>\n",
       "      <td>0</td>\n",
       "      <td>0</td>\n",
       "      <td>0</td>\n",
       "      <td>0</td>\n",
       "      <td>0</td>\n",
       "    </tr>\n",
       "    <tr>\n",
       "      <th>4</th>\n",
       "      <td>5 r cha thai go</td>\n",
       "      <td>0</td>\n",
       "      <td>0</td>\n",
       "      <td>0</td>\n",
       "      <td>0</td>\n",
       "      <td>0</td>\n",
       "      <td>0</td>\n",
       "      <td>0</td>\n",
       "      <td>0</td>\n",
       "      <td>0</td>\n",
       "      <td>...</td>\n",
       "      <td>0</td>\n",
       "      <td>0</td>\n",
       "      <td>0</td>\n",
       "      <td>0</td>\n",
       "      <td>0</td>\n",
       "      <td>0</td>\n",
       "      <td>0</td>\n",
       "      <td>0</td>\n",
       "      <td>0</td>\n",
       "      <td>0</td>\n",
       "    </tr>\n",
       "  </tbody>\n",
       "</table>\n",
       "<p>5 rows × 112 columns</p>\n",
       "</div>"
      ],
      "text/plain": [
       "                        name  chinese  caribbean  bakery  salads  wraps  \\\n",
       "0                     #1 pho        0          0       0       0      0   \n",
       "1  24th street pizza & gyros        0          0       0       0      0   \n",
       "2  3 tomatoes & a mozzarella        0          0       0       0      0   \n",
       "3                    4b cafe        0          0       0       0      0   \n",
       "4            5 r cha thai go        0          0       0       0      0   \n",
       "\n",
       "   spanish  sushi  californian  mediterranean  ...  noodles  turkish  \\\n",
       "0        0      0            0              0  ...        0        0   \n",
       "1        0      0            0              0  ...        0        0   \n",
       "2        0      0            0              0  ...        0        0   \n",
       "3        0      0            0              0  ...        0        0   \n",
       "4        0      0            0              0  ...        0        0   \n",
       "\n",
       "   cocktails  irish  bar  south  crepes  french  british  creole  \n",
       "0          0      0    0      0       0       0        0       0  \n",
       "1          0      0    0      0       0       0        0       0  \n",
       "2          0      0    0      0       0       0        0       0  \n",
       "3          0      0    0      0       0       0        0       0  \n",
       "4          0      0    0      0       0       0        0       0  \n",
       "\n",
       "[5 rows x 112 columns]"
      ]
     },
     "execution_count": 12,
     "metadata": {},
     "output_type": "execute_result"
    }
   ],
   "source": [
    "attributes_df.head()"
   ]
  },
  {
   "cell_type": "markdown",
   "metadata": {},
   "source": [
    "## Creating Tagged Documents using namedtuples for each datasets\n",
    "Tagged Document is a single document, made up of words (a list of unicode string tokens) and tags (a list of tokens). It represents a document along with a tag which is required as input for Doc2Vec. Utilizing namedtuples to also include restaurant names and popularity scores for tf-idf search model."
   ]
  },
  {
   "cell_type": "markdown",
   "metadata": {},
   "source": [
    "#### Gather all text and menu information"
   ]
  },
  {
   "cell_type": "code",
   "execution_count": 1006,
   "metadata": {},
   "outputs": [],
   "source": [
    "# Enusre they're all string datatype\n",
    "text_df['clean_text'] = text_df['clean_text'].astype(str)\n",
    "pos_text_df['clean_text'] = pos_text_df['clean_text'].astype(str)\n",
    "grouped_text_df['clean_text'] = grouped_text_df['clean_text'].astype(str)\n",
    "grouped_pos_text_df['clean_text'] = grouped_pos_text_df['clean_text'].astype(str)\n",
    "\n",
    "menu_desc_df['clean_menu_desc'] = menu_desc_df['clean_menu_desc'].astype(str)\n",
    "menu_title_df['clean_menu_titles'] = menu_title_df['clean_menu_titles'].astype(str)"
   ]
  },
  {
   "cell_type": "code",
   "execution_count": 1007,
   "metadata": {},
   "outputs": [],
   "source": [
    "# Create Tagged documents with additional information such as restaurant name and popularity score,\n",
    "text_docs = create_doc_tuples(text_df)\n",
    "# pos_text_docs = create_doc_tuples(pos_text_df)\n",
    "# grouped_text_docs = create_doc_tuples(grouped_text_df)\n",
    "# grouped_pos_text_docs = create_doc_tuples(grouped_pos_text_df)\n",
    "menu_desc_docs = create_doc_tuples(menu_desc_df, 'menu_desc')\n",
    "menu_title_docs = create_doc_tuples(menu_title_df, 'menu_title')"
   ]
  },
  {
   "cell_type": "code",
   "execution_count": 100,
   "metadata": {},
   "outputs": [
    {
     "data": {
      "text/plain": [
       "[Document(name='#1 pho', words=['fantastic', 'pho', 'vegetable', 'pho', 'vegetable', 'broth', 'fresh', 'fabulous', 'do', 'miss', 'vegetable', 'spring', 'roll', 'come', 'yesterday', 'afternoon', 'pho', 'as', 'walk', 'strong', 'scent', 'incense', 'fan', 'however', 'wall', 'separate', 'dining', 'room', 'area', 'create', 'problem', 'seat', 'look', 'owner', 'super', 'friendly', 'order', 'typical', 'pho', 'rare', 'beef', 'fantastic', 'definitely', 'pho', 'restaurant', 'alot', 'bubble', 'tea', 'menu', 'want', 'way', 'the', 'downside', 'water', 'green', 'inside', 'fish', 'tank', 'unfortunately', 'stare', 'entire', 'eat', 'regardless', 'town', 'the', 'beef', 'noodle', 'pho', 'adequate', 'srichacha', 'available', 'supplement', 'thimbleful', 'provide', 'request', 'the', 'fresh', 'roll', 'contain', 'turkey', 'shrimp', 'interesting', 'combo', 'work', 'the', 'taro', 'boba', 'arrive', 'parfait', 'glass', 'look', 'beautiful', 'break', 'tooth', 'bubble', 'hardened', 'tapioca', 'taro', 'sweet', 'need', 'how', 'harden', 'tapioca', 'possible', 'return', 'solve', 'mystery', 'the', 'broth', 'kind', 'weak', 'saturday', 'get', 'pho', 'give', 'extra', 'basil', 'the', 'basil', 'fresh', 'bean', 'sprout', 'enjoy', 'leftover', 'pho', 'dinner', 'hot', 'pho', 'good', 'the', 'rice', 'paper', 'roll', 'this', 'super', 'delicious', 'pho', 'decor', 'leave', 'feeling', 'soul', 'but', 'seriously', 'beef', 'pho', 'spring', 'roll', 'crazy', 'vietnamese', 'cold', 'salad', 'noodle', 'fantastic', 'disappoint', 'enjoyed', 'pho', 'spring', 'roll', 'because', 'help', 'compare', 'beloved', 'saigon', 'thinking', 'way', 'star', 'just', 'want', 'let', 'know', 'unfortunately', 'location', 'close', 'try', 'takeout', 'day', 'person', 'new', 'owner', 'tell', 'stop', 'month', 'plan', 'open', 'new', 'thai', 'this', 'extension', 'superior', 'ave', 'original', 'sense', 'word', 'the', 'taste', 'fresh', 'decor', 'bit', 'strip', 'mall', 'sign', 'say', 'open', 'pm', 'look', 'close', 'sunday', 'just', 'stop', 'pho', 'look', 'close', 'permanently'], popularity_score=78.0, tags=[0], index=0)]"
      ]
     },
     "execution_count": 100,
     "metadata": {},
     "output_type": "execute_result"
    }
   ],
   "source": [
    "# Sample output\n",
    "grouped_text_docs[:1]"
   ]
  },
  {
   "cell_type": "markdown",
   "metadata": {},
   "source": [
    "## Build Doc2Vec Models"
   ]
  },
  {
   "cell_type": "code",
   "execution_count": 1008,
   "metadata": {},
   "outputs": [],
   "source": [
    "# Menu title and description\n",
    "menu_desc_model = Doc2Vec(dm=1, # CBOW algorithm\n",
    "                size=100, # 100 vector dimensions\n",
    "                window=2, # maximum distance between the predicted word and context words\n",
    "                hs=0, # negative sampling - remov\n",
    "                dbow_words=1, # trains word vectors in skip-gram fashion\n",
    "                sample=1e-5, # Threshold for deleting high frequency word like 'the'\n",
    "                workers=4) # Worker threads\n",
    "\n",
    "menu_title_model = Doc2Vec(dm=1,size=100, window=2, hs=0, dbow_words=1, sample=1e-5, workers=4)"
   ]
  },
  {
   "cell_type": "code",
   "execution_count": 1009,
   "metadata": {},
   "outputs": [],
   "source": [
    "# Increasing window size to 10 since review texts has longer sentences compared to menu text values\n",
    "text_model = Doc2Vec(dm=1,size=100, window=10, hs=0, dbow_words=1, sample=1e-5, workers=4)\n",
    "pos_text_model = Doc2Vec(dm=1,size=100, window=10, hs=0, dbow_words=1, sample=1e-5, workers=4)"
   ]
  },
  {
   "cell_type": "code",
   "execution_count": 106,
   "metadata": {},
   "outputs": [],
   "source": [
    "# Increased window size to 25 since grouped text values contains 'combined' review texts per restaurant\n",
    "grouped_text_model = Doc2Vec(dm=1,size=100, window=25, hs=0, dbow_words=1, sample=1e-5, workers=4)\n",
    "grouped_pos_text_model = Doc2Vec(dm=1,size=100, window=25, hs=0, dbow_words=1, sample=1e-5, workers=4)"
   ]
  },
  {
   "cell_type": "markdown",
   "metadata": {},
   "source": [
    "### Build Vocabulary"
   ]
  },
  {
   "cell_type": "code",
   "execution_count": 1010,
   "metadata": {},
   "outputs": [],
   "source": [
    "# Menu title and description\n",
    "menu_desc_model.build_vocab(menu_desc_docs)\n",
    "menu_title_model.build_vocab(menu_title_docs)\n",
    "\n",
    "# Review text\n",
    "text_model.build_vocab(text_docs)\n",
    "# pos_text_model.build_vocab(pos_text_docs)\n",
    "# grouped_text_model.build_vocab(grouped_text_docs)\n",
    "# grouped_pos_text_model.build_vocab(grouped_pos_text_docs)"
   ]
  },
  {
   "cell_type": "markdown",
   "metadata": {},
   "source": [
    "### Train Doc2Vec Models"
   ]
  },
  {
   "cell_type": "code",
   "execution_count": 1011,
   "metadata": {},
   "outputs": [],
   "source": [
    "menu_desc_model.train(menu_desc_docs, \n",
    "                      total_examples=menu_desc_model.corpus_count, \n",
    "                      epochs=100, start_alpha=0.01, end_alpha=0.01)"
   ]
  },
  {
   "cell_type": "code",
   "execution_count": 1012,
   "metadata": {},
   "outputs": [],
   "source": [
    "menu_desc_model.save('./dataset/menu_desc_model')"
   ]
  },
  {
   "cell_type": "code",
   "execution_count": 1015,
   "metadata": {},
   "outputs": [],
   "source": [
    "menu_title_model.train(menu_title_docs, \n",
    "                      total_examples=menu_title_model.corpus_count, \n",
    "                      epochs=100, start_alpha=0.01, end_alpha=0.01)"
   ]
  },
  {
   "cell_type": "code",
   "execution_count": 1016,
   "metadata": {},
   "outputs": [],
   "source": [
    "menu_title_model.save('./dataset/menu_title_model')"
   ]
  },
  {
   "cell_type": "code",
   "execution_count": 1017,
   "metadata": {},
   "outputs": [],
   "source": [
    "text_model.train(text_docs, \n",
    "                      total_examples=text_model.corpus_count, \n",
    "                      epochs=100, start_alpha=0.01, end_alpha=0.01)"
   ]
  },
  {
   "cell_type": "code",
   "execution_count": 1018,
   "metadata": {},
   "outputs": [],
   "source": [
    "text_model.save('./dataset/text_model')"
   ]
  },
  {
   "cell_type": "code",
   "execution_count": 285,
   "metadata": {},
   "outputs": [],
   "source": [
    "pos_text_model.train(pos_text_docs, \n",
    "                      total_examples=text_model.corpus_count, \n",
    "                      epochs=100, start_alpha=0.01, end_alpha=0.01)"
   ]
  },
  {
   "cell_type": "code",
   "execution_count": 286,
   "metadata": {},
   "outputs": [],
   "source": [
    "pos_text_model.save('./dataset/pos_text_model')"
   ]
  },
  {
   "cell_type": "code",
   "execution_count": 287,
   "metadata": {},
   "outputs": [],
   "source": [
    "grouped_text_model.train(grouped_text_docs, \n",
    "                      total_examples=grouped_text_model.corpus_count, \n",
    "                      epochs=100, start_alpha=0.01, end_alpha=0.01)"
   ]
  },
  {
   "cell_type": "code",
   "execution_count": 288,
   "metadata": {},
   "outputs": [],
   "source": [
    "grouped_text_model.save('./dataset/grouped_text_model')"
   ]
  },
  {
   "cell_type": "code",
   "execution_count": 289,
   "metadata": {},
   "outputs": [],
   "source": [
    "grouped_pos_text_model.train(grouped_pos_text_docs, \n",
    "                      total_examples=grouped_pos_text_model.corpus_count, \n",
    "                      epochs=100, start_alpha=0.01, end_alpha=0.01)"
   ]
  },
  {
   "cell_type": "code",
   "execution_count": 290,
   "metadata": {},
   "outputs": [],
   "source": [
    "grouped_pos_text_model.save('./dataset/grouped_pos_text_model')"
   ]
  },
  {
   "cell_type": "markdown",
   "metadata": {},
   "source": [
    "### Evaluating words embedding and insert vectors to its respective rows"
   ]
  },
  {
   "cell_type": "markdown",
   "metadata": {},
   "source": [
    "#### Menu title"
   ]
  },
  {
   "cell_type": "code",
   "execution_count": 1019,
   "metadata": {},
   "outputs": [
    {
     "data": {
      "text/plain": [
       "[('sharing', 0.9621393084526062),\n",
       " ('primavera', 0.9609645009040833),\n",
       " ('meatball', 0.9516516327857971),\n",
       " ('bucatini', 0.9490647912025452),\n",
       " ('mother', 0.9486719965934753),\n",
       " ('spaghetti', 0.9466715455055237),\n",
       " ('pesto', 0.9466609358787537),\n",
       " ('duo', 0.9392339587211609),\n",
       " ('romano', 0.9383900761604309),\n",
       " ('bolognese', 0.9362183213233948)]"
      ]
     },
     "execution_count": 1019,
     "metadata": {},
     "output_type": "execute_result"
    }
   ],
   "source": [
    "menu_title_model.wv.most_similar_cosmul(positive=['pasta'])"
   ]
  },
  {
   "cell_type": "code",
   "execution_count": 1061,
   "metadata": {},
   "outputs": [],
   "source": [
    "# Set random seed to ensure same results\n",
    "menu_title_model.random.seed(42)\n",
    "menu_title_df['vector'] = menu_title_df['clean_menu_titles'].str.split().apply(menu_title_model.infer_vector).values"
   ]
  },
  {
   "cell_type": "markdown",
   "metadata": {},
   "source": [
    "#### Menu description"
   ]
  },
  {
   "cell_type": "code",
   "execution_count": 1020,
   "metadata": {},
   "outputs": [
    {
     "data": {
      "text/plain": [
       "[('tuna', 0.8421205878257751),\n",
       " ('yellowtail', 0.8276487588882446),\n",
       " ('sushi', 0.8268221020698547),\n",
       " ('tobiko', 0.8193127512931824),\n",
       " ('ikura', 0.8125702142715454),\n",
       " ('eel', 0.8111112713813782),\n",
       " ('sashimi', 0.8053328394889832),\n",
       " ('masago', 0.8043803572654724),\n",
       " ('collar', 0.8023239970207214),\n",
       " ('whitefish', 0.8009525537490845)]"
      ]
     },
     "execution_count": 1020,
     "metadata": {},
     "output_type": "execute_result"
    }
   ],
   "source": [
    "menu_desc_model.wv.most_similar_cosmul(positive=['salmon'])"
   ]
  },
  {
   "cell_type": "code",
   "execution_count": 1060,
   "metadata": {},
   "outputs": [],
   "source": [
    "# Set random seed to ensure same results\n",
    "menu_desc_model.random.seed(42)\n",
    "menu_desc_df['vector'] = menu_desc_df['clean_menu_desc'].str.split().apply(menu_desc_model.infer_vector).values"
   ]
  },
  {
   "cell_type": "markdown",
   "metadata": {},
   "source": [
    "#### All review texts"
   ]
  },
  {
   "cell_type": "code",
   "execution_count": 1021,
   "metadata": {},
   "outputs": [
    {
     "data": {
      "text/plain": [
       "[('vietnamese', 0.8965592384338379),\n",
       " ('vermicelli', 0.8624076843261719),\n",
       " ('biet', 0.8565489053726196),\n",
       " ('viet', 0.8530400395393372),\n",
       " ('saigon', 0.8467001914978027),\n",
       " ('dac', 0.8427303433418274),\n",
       " ('banh', 0.8308336734771729),\n",
       " ('phos', 0.8118297457695007),\n",
       " ('bahn', 0.8098064064979553),\n",
       " ('thanh', 0.8051256537437439)]"
      ]
     },
     "execution_count": 1021,
     "metadata": {},
     "output_type": "execute_result"
    }
   ],
   "source": [
    "test = text_model.wv.most_similar_cosmul(positive=['pho'])\n",
    "test"
   ]
  },
  {
   "cell_type": "code",
   "execution_count": 1059,
   "metadata": {},
   "outputs": [],
   "source": [
    "# Set random seed to ensure same results\n",
    "text_model.random.seed(42)\n",
    "text_df['vector'] = text_df['clean_text'].str.split().apply(text_model.infer_vector).values"
   ]
  },
  {
   "cell_type": "markdown",
   "metadata": {},
   "source": [
    "#### Positive text"
   ]
  },
  {
   "cell_type": "code",
   "execution_count": 291,
   "metadata": {},
   "outputs": [
    {
     "data": {
      "text/plain": [
       "[('india', 0.9340745806694031),\n",
       " ('dhaba', 0.8638657927513123),\n",
       " ('tikka', 0.8469441533088684),\n",
       " ('biryani', 0.8339383006095886),\n",
       " ('taj', 0.8307921886444092),\n",
       " ('korma', 0.830226719379425),\n",
       " ('nepalese', 0.8180621266365051),\n",
       " ('delhi', 0.8172544836997986),\n",
       " ('masala', 0.8163518309593201),\n",
       " ('darbar', 0.8157666325569153)]"
      ]
     },
     "execution_count": 291,
     "metadata": {},
     "output_type": "execute_result"
    }
   ],
   "source": [
    "pos_text_model.wv.most_similar_cosmul(positive=['indian'])"
   ]
  },
  {
   "cell_type": "markdown",
   "metadata": {},
   "source": [
    "#### Grouped text values"
   ]
  },
  {
   "cell_type": "code",
   "execution_count": 292,
   "metadata": {},
   "outputs": [
    {
     "data": {
      "text/plain": [
       "[('baguette', 0.7447547912597656),\n",
       " ('sandwich', 0.7340155839920044),\n",
       " ('lee', 0.7246848940849304),\n",
       " ('banh', 0.716722846031189),\n",
       " ('lees', 0.708283543586731),\n",
       " ('sourdough', 0.7040324211120605),\n",
       " ('sugarcane', 0.7029849290847778),\n",
       " ('durian', 0.7017142176628113),\n",
       " ('viet', 0.6917997598648071),\n",
       " ('mi', 0.6911283135414124)]"
      ]
     },
     "execution_count": 292,
     "metadata": {},
     "output_type": "execute_result"
    }
   ],
   "source": [
    "grouped_text_model.wv.most_similar_cosmul(positive=['sandwiches'])"
   ]
  },
  {
   "cell_type": "markdown",
   "metadata": {},
   "source": [
    "#### Grouped positive text values"
   ]
  },
  {
   "cell_type": "code",
   "execution_count": 293,
   "metadata": {},
   "outputs": [
    {
     "data": {
      "text/plain": [
       "[('pork', 0.7782501578330994),\n",
       " ('barbeque', 0.7593139410018921),\n",
       " ('barbecue', 0.7270077466964722),\n",
       " ('riblet', 0.7267343997955322),\n",
       " ('ribs', 0.7232769727706909),\n",
       " ('kbbq', 0.7131699919700623),\n",
       " ('shilla', 0.7110636830329895),\n",
       " ('korean', 0.7088062763214111),\n",
       " ('personel', 0.7043653130531311),\n",
       " ('rib', 0.7026166915893555)]"
      ]
     },
     "execution_count": 293,
     "metadata": {},
     "output_type": "execute_result"
    }
   ],
   "source": [
    "grouped_pos_text_model.wv.most_similar_cosmul(positive=['bbq'])"
   ]
  },
  {
   "cell_type": "markdown",
   "metadata": {},
   "source": [
    "## TEST"
   ]
  },
  {
   "cell_type": "code",
   "execution_count": 1124,
   "metadata": {},
   "outputs": [],
   "source": [
    "result_text_df = find_similar_docs('kimchi bulgogi', text_model, text_df, 'clean_text')"
   ]
  },
  {
   "cell_type": "code",
   "execution_count": 1125,
   "metadata": {},
   "outputs": [
    {
     "data": {
      "text/html": [
       "<div>\n",
       "<style scoped>\n",
       "    .dataframe tbody tr th:only-of-type {\n",
       "        vertical-align: middle;\n",
       "    }\n",
       "\n",
       "    .dataframe tbody tr th {\n",
       "        vertical-align: top;\n",
       "    }\n",
       "\n",
       "    .dataframe thead th {\n",
       "        text-align: right;\n",
       "    }\n",
       "</style>\n",
       "<table border=\"1\" class=\"dataframe\">\n",
       "  <thead>\n",
       "    <tr style=\"text-align: right;\">\n",
       "      <th></th>\n",
       "      <th>name</th>\n",
       "      <th>text</th>\n",
       "      <th>popularity_score</th>\n",
       "      <th>similarity_score</th>\n",
       "    </tr>\n",
       "  </thead>\n",
       "  <tbody>\n",
       "    <tr>\n",
       "      <th>0</th>\n",
       "      <td>honey pig</td>\n",
       "      <td>korean</td>\n",
       "      <td>82.0</td>\n",
       "      <td>0.869700</td>\n",
       "    </tr>\n",
       "    <tr>\n",
       "      <th>1</th>\n",
       "      <td>green pepper</td>\n",
       "      <td>korean pittsburgh</td>\n",
       "      <td>90.0</td>\n",
       "      <td>0.865493</td>\n",
       "    </tr>\n",
       "    <tr>\n",
       "      <th>2</th>\n",
       "      <td>good fella korean bistro</td>\n",
       "      <td>favorite korean</td>\n",
       "      <td>96.0</td>\n",
       "      <td>0.845140</td>\n",
       "    </tr>\n",
       "    <tr>\n",
       "      <th>3</th>\n",
       "      <td>pei wei</td>\n",
       "      <td>spicy korean regular</td>\n",
       "      <td>71.0</td>\n",
       "      <td>0.810071</td>\n",
       "    </tr>\n",
       "    <tr>\n",
       "      <th>4</th>\n",
       "      <td>manna korean bbq</td>\n",
       "      <td>favorite find far vegas korean comfort bulgogi</td>\n",
       "      <td>98.0</td>\n",
       "      <td>0.806214</td>\n",
       "    </tr>\n",
       "    <tr>\n",
       "      <th>5</th>\n",
       "      <td>korea house</td>\n",
       "      <td>delicious menu dukboki kalbee bibim bap sure soju</td>\n",
       "      <td>90.0</td>\n",
       "      <td>0.766114</td>\n",
       "    </tr>\n",
       "    <tr>\n",
       "      <th>6</th>\n",
       "      <td>korea garden</td>\n",
       "      <td>cold noodle pricey stuff half korean</td>\n",
       "      <td>84.0</td>\n",
       "      <td>0.739822</td>\n",
       "    </tr>\n",
       "    <tr>\n",
       "      <th>7</th>\n",
       "      <td>shilla korean bbq</td>\n",
       "      <td>grill kimchi trust</td>\n",
       "      <td>88.0</td>\n",
       "      <td>0.693191</td>\n",
       "    </tr>\n",
       "    <tr>\n",
       "      <th>8</th>\n",
       "      <td>paris baguette</td>\n",
       "      <td>trays wax paper tong right inside</td>\n",
       "      <td>89.0</td>\n",
       "      <td>0.685871</td>\n",
       "    </tr>\n",
       "    <tr>\n",
       "      <th>9</th>\n",
       "      <td>yoshinoya</td>\n",
       "      <td>quick suki yaki type beef teriyaki chicken ext...</td>\n",
       "      <td>80.0</td>\n",
       "      <td>0.664226</td>\n",
       "    </tr>\n",
       "  </tbody>\n",
       "</table>\n",
       "</div>"
      ],
      "text/plain": [
       "                       name  \\\n",
       "0                 honey pig   \n",
       "1              green pepper   \n",
       "2  good fella korean bistro   \n",
       "3                   pei wei   \n",
       "4          manna korean bbq   \n",
       "5               korea house   \n",
       "6              korea garden   \n",
       "7         shilla korean bbq   \n",
       "8            paris baguette   \n",
       "9                 yoshinoya   \n",
       "\n",
       "                                                text  popularity_score  \\\n",
       "0                                             korean              82.0   \n",
       "1                                  korean pittsburgh              90.0   \n",
       "2                                    favorite korean              96.0   \n",
       "3                               spicy korean regular              71.0   \n",
       "4     favorite find far vegas korean comfort bulgogi              98.0   \n",
       "5  delicious menu dukboki kalbee bibim bap sure soju              90.0   \n",
       "6               cold noodle pricey stuff half korean              84.0   \n",
       "7                                 grill kimchi trust              88.0   \n",
       "8                  trays wax paper tong right inside              89.0   \n",
       "9  quick suki yaki type beef teriyaki chicken ext...              80.0   \n",
       "\n",
       "   similarity_score  \n",
       "0          0.869700  \n",
       "1          0.865493  \n",
       "2          0.845140  \n",
       "3          0.810071  \n",
       "4          0.806214  \n",
       "5          0.766114  \n",
       "6          0.739822  \n",
       "7          0.693191  \n",
       "8          0.685871  \n",
       "9          0.664226  "
      ]
     },
     "execution_count": 1125,
     "metadata": {},
     "output_type": "execute_result"
    }
   ],
   "source": [
    "result_text_df"
   ]
  },
  {
   "cell_type": "code",
   "execution_count": 1126,
   "metadata": {
    "scrolled": true
   },
   "outputs": [],
   "source": [
    "result_menu_desc_df = find_similar_docs('kimchi bulgogi', menu_desc_model, menu_desc_df, 'clean_menu_desc')"
   ]
  },
  {
   "cell_type": "code",
   "execution_count": 1127,
   "metadata": {},
   "outputs": [
    {
     "data": {
      "text/html": [
       "<div>\n",
       "<style scoped>\n",
       "    .dataframe tbody tr th:only-of-type {\n",
       "        vertical-align: middle;\n",
       "    }\n",
       "\n",
       "    .dataframe tbody tr th {\n",
       "        vertical-align: top;\n",
       "    }\n",
       "\n",
       "    .dataframe thead th {\n",
       "        text-align: right;\n",
       "    }\n",
       "</style>\n",
       "<table border=\"1\" class=\"dataframe\">\n",
       "  <thead>\n",
       "    <tr style=\"text-align: right;\">\n",
       "      <th></th>\n",
       "      <th>name</th>\n",
       "      <th>text</th>\n",
       "      <th>popularity_score</th>\n",
       "      <th>similarity_score</th>\n",
       "    </tr>\n",
       "  </thead>\n",
       "  <tbody>\n",
       "    <tr>\n",
       "      <th>0</th>\n",
       "      <td>sushi rock</td>\n",
       "      <td>beef bulgogi</td>\n",
       "      <td>81.98</td>\n",
       "      <td>0.952456</td>\n",
       "    </tr>\n",
       "    <tr>\n",
       "      <th>1</th>\n",
       "      <td>manna korean bbq</td>\n",
       "      <td>bulgogi dakbulgogi salmon</td>\n",
       "      <td>98.00</td>\n",
       "      <td>0.951221</td>\n",
       "    </tr>\n",
       "    <tr>\n",
       "      <th>2</th>\n",
       "      <td>one world pizza</td>\n",
       "      <td>gochujan bulgogi kimchi green onion</td>\n",
       "      <td>92.00</td>\n",
       "      <td>0.946320</td>\n",
       "    </tr>\n",
       "    <tr>\n",
       "      <th>3</th>\n",
       "      <td>ginza sushi</td>\n",
       "      <td>kimchi bulgogi fried rice</td>\n",
       "      <td>86.00</td>\n",
       "      <td>0.945349</td>\n",
       "    </tr>\n",
       "    <tr>\n",
       "      <th>4</th>\n",
       "      <td>yen sushi &amp; sake bar</td>\n",
       "      <td>bulgogi rice bowl lunch</td>\n",
       "      <td>93.00</td>\n",
       "      <td>0.914262</td>\n",
       "    </tr>\n",
       "    <tr>\n",
       "      <th>5</th>\n",
       "      <td>sushi 101</td>\n",
       "      <td>beef bulgogi bowl</td>\n",
       "      <td>86.51</td>\n",
       "      <td>0.912178</td>\n",
       "    </tr>\n",
       "    <tr>\n",
       "      <th>6</th>\n",
       "      <td>caffe bene</td>\n",
       "      <td>bulgogi beef little gimbap</td>\n",
       "      <td>89.00</td>\n",
       "      <td>0.893038</td>\n",
       "    </tr>\n",
       "    <tr>\n",
       "      <th>7</th>\n",
       "      <td>fuji japanese restaurant</td>\n",
       "      <td>chicken yakitori</td>\n",
       "      <td>81.25</td>\n",
       "      <td>0.879037</td>\n",
       "    </tr>\n",
       "    <tr>\n",
       "      <th>8</th>\n",
       "      <td>sichuan palace</td>\n",
       "      <td>sa chi pork</td>\n",
       "      <td>83.00</td>\n",
       "      <td>0.874797</td>\n",
       "    </tr>\n",
       "    <tr>\n",
       "      <th>9</th>\n",
       "      <td>hunan park</td>\n",
       "      <td>ta chin chicken</td>\n",
       "      <td>90.00</td>\n",
       "      <td>0.873308</td>\n",
       "    </tr>\n",
       "  </tbody>\n",
       "</table>\n",
       "</div>"
      ],
      "text/plain": [
       "                       name                                 text  \\\n",
       "0                sushi rock                         beef bulgogi   \n",
       "1          manna korean bbq            bulgogi dakbulgogi salmon   \n",
       "2           one world pizza  gochujan bulgogi kimchi green onion   \n",
       "3               ginza sushi            kimchi bulgogi fried rice   \n",
       "4      yen sushi & sake bar              bulgogi rice bowl lunch   \n",
       "5                 sushi 101                    beef bulgogi bowl   \n",
       "6                caffe bene           bulgogi beef little gimbap   \n",
       "7  fuji japanese restaurant                     chicken yakitori   \n",
       "8            sichuan palace                          sa chi pork   \n",
       "9                hunan park                      ta chin chicken   \n",
       "\n",
       "   popularity_score  similarity_score  \n",
       "0             81.98          0.952456  \n",
       "1             98.00          0.951221  \n",
       "2             92.00          0.946320  \n",
       "3             86.00          0.945349  \n",
       "4             93.00          0.914262  \n",
       "5             86.51          0.912178  \n",
       "6             89.00          0.893038  \n",
       "7             81.25          0.879037  \n",
       "8             83.00          0.874797  \n",
       "9             90.00          0.873308  "
      ]
     },
     "execution_count": 1127,
     "metadata": {},
     "output_type": "execute_result"
    }
   ],
   "source": [
    "result_menu_desc_df"
   ]
  },
  {
   "cell_type": "code",
   "execution_count": 1128,
   "metadata": {},
   "outputs": [],
   "source": [
    "result_menu_title_df = find_similar_docs('kimchi bulgogi', menu_title_model, menu_title_df, 'clean_menu_titles')"
   ]
  },
  {
   "cell_type": "code",
   "execution_count": 1129,
   "metadata": {},
   "outputs": [
    {
     "data": {
      "text/html": [
       "<div>\n",
       "<style scoped>\n",
       "    .dataframe tbody tr th:only-of-type {\n",
       "        vertical-align: middle;\n",
       "    }\n",
       "\n",
       "    .dataframe tbody tr th {\n",
       "        vertical-align: top;\n",
       "    }\n",
       "\n",
       "    .dataframe thead th {\n",
       "        text-align: right;\n",
       "    }\n",
       "</style>\n",
       "<table border=\"1\" class=\"dataframe\">\n",
       "  <thead>\n",
       "    <tr style=\"text-align: right;\">\n",
       "      <th></th>\n",
       "      <th>name</th>\n",
       "      <th>text</th>\n",
       "      <th>popularity_score</th>\n",
       "      <th>similarity_score</th>\n",
       "    </tr>\n",
       "  </thead>\n",
       "  <tbody>\n",
       "    <tr>\n",
       "      <th>0</th>\n",
       "      <td>manna korean bbq</td>\n",
       "      <td>bulgogi jeongol</td>\n",
       "      <td>98.00</td>\n",
       "      <td>0.989530</td>\n",
       "    </tr>\n",
       "    <tr>\n",
       "      <th>1</th>\n",
       "      <td>green pepper</td>\n",
       "      <td>bulgogi</td>\n",
       "      <td>90.00</td>\n",
       "      <td>0.982826</td>\n",
       "    </tr>\n",
       "    <tr>\n",
       "      <th>2</th>\n",
       "      <td>island style</td>\n",
       "      <td>bulgogi</td>\n",
       "      <td>100.00</td>\n",
       "      <td>0.978813</td>\n",
       "    </tr>\n",
       "    <tr>\n",
       "      <th>3</th>\n",
       "      <td>korea garden</td>\n",
       "      <td>bulgogi</td>\n",
       "      <td>84.00</td>\n",
       "      <td>0.977044</td>\n",
       "    </tr>\n",
       "    <tr>\n",
       "      <th>4</th>\n",
       "      <td>shilla korean bbq</td>\n",
       "      <td>bulgogi</td>\n",
       "      <td>88.00</td>\n",
       "      <td>0.972034</td>\n",
       "    </tr>\n",
       "    <tr>\n",
       "      <th>5</th>\n",
       "      <td>yoshinoya</td>\n",
       "      <td>kimchi</td>\n",
       "      <td>79.61</td>\n",
       "      <td>0.968897</td>\n",
       "    </tr>\n",
       "    <tr>\n",
       "      <th>6</th>\n",
       "      <td>korea house</td>\n",
       "      <td>kimchi jigae</td>\n",
       "      <td>90.00</td>\n",
       "      <td>0.963814</td>\n",
       "    </tr>\n",
       "    <tr>\n",
       "      <th>7</th>\n",
       "      <td>good fella korean bistro</td>\n",
       "      <td>kimchi</td>\n",
       "      <td>94.70</td>\n",
       "      <td>0.954180</td>\n",
       "    </tr>\n",
       "    <tr>\n",
       "      <th>8</th>\n",
       "      <td>ginza sushi</td>\n",
       "      <td>spicy pork bulgogi hot stone bibimbap</td>\n",
       "      <td>86.00</td>\n",
       "      <td>0.949773</td>\n",
       "    </tr>\n",
       "    <tr>\n",
       "      <th>9</th>\n",
       "      <td>oishii bento</td>\n",
       "      <td>bulgogi bowl</td>\n",
       "      <td>95.00</td>\n",
       "      <td>0.936525</td>\n",
       "    </tr>\n",
       "  </tbody>\n",
       "</table>\n",
       "</div>"
      ],
      "text/plain": [
       "                       name                                   text  \\\n",
       "0          manna korean bbq                        bulgogi jeongol   \n",
       "1              green pepper                                bulgogi   \n",
       "2              island style                                bulgogi   \n",
       "3              korea garden                                bulgogi   \n",
       "4         shilla korean bbq                                bulgogi   \n",
       "5                 yoshinoya                                 kimchi   \n",
       "6               korea house                           kimchi jigae   \n",
       "7  good fella korean bistro                                 kimchi   \n",
       "8               ginza sushi  spicy pork bulgogi hot stone bibimbap   \n",
       "9              oishii bento                           bulgogi bowl   \n",
       "\n",
       "   popularity_score  similarity_score  \n",
       "0             98.00          0.989530  \n",
       "1             90.00          0.982826  \n",
       "2            100.00          0.978813  \n",
       "3             84.00          0.977044  \n",
       "4             88.00          0.972034  \n",
       "5             79.61          0.968897  \n",
       "6             90.00          0.963814  \n",
       "7             94.70          0.954180  \n",
       "8             86.00          0.949773  \n",
       "9             95.00          0.936525  "
      ]
     },
     "execution_count": 1129,
     "metadata": {},
     "output_type": "execute_result"
    }
   ],
   "source": [
    "result_menu_title_df"
   ]
  },
  {
   "cell_type": "markdown",
   "metadata": {},
   "source": [
    "### Finalized Search Method\n",
    "- Search method includes the following methods:\n",
    "    - **find_similar_docs method**: Finds similar documents based on vectors.\n",
    "    - **get_similar_list method**: Finds and gathers documents that has specific keywords associated with query.\n",
    "    - **expand_contractions method**: Expands contractions.\n",
    "    - **Tokenize method**: Text preprocessing."
   ]
  },
  {
   "cell_type": "code",
   "execution_count": 1185,
   "metadata": {},
   "outputs": [],
   "source": [
    "# Utilize helper functions\n",
    "%run helper_function.ipynb"
   ]
  },
  {
   "cell_type": "code",
   "execution_count": 1189,
   "metadata": {},
   "outputs": [
    {
     "data": {
      "text/html": [
       "<div>\n",
       "<style scoped>\n",
       "    .dataframe tbody tr th:only-of-type {\n",
       "        vertical-align: middle;\n",
       "    }\n",
       "\n",
       "    .dataframe tbody tr th {\n",
       "        vertical-align: top;\n",
       "    }\n",
       "\n",
       "    .dataframe thead th {\n",
       "        text-align: right;\n",
       "    }\n",
       "</style>\n",
       "<table border=\"1\" class=\"dataframe\">\n",
       "  <thead>\n",
       "    <tr style=\"text-align: right;\">\n",
       "      <th></th>\n",
       "      <th>name</th>\n",
       "      <th>text</th>\n",
       "      <th>popularity_score</th>\n",
       "      <th>similarity_score</th>\n",
       "    </tr>\n",
       "  </thead>\n",
       "  <tbody>\n",
       "    <tr>\n",
       "      <th>0</th>\n",
       "      <td>taste of india</td>\n",
       "      <td>chicken makhani</td>\n",
       "      <td>87.15</td>\n",
       "      <td>0.955585</td>\n",
       "    </tr>\n",
       "    <tr>\n",
       "      <th>1</th>\n",
       "      <td>bombay indian grill</td>\n",
       "      <td>shrimp makhani</td>\n",
       "      <td>90.35</td>\n",
       "      <td>0.953731</td>\n",
       "    </tr>\n",
       "    <tr>\n",
       "      <th>2</th>\n",
       "      <td>bombay grill</td>\n",
       "      <td>chicken makhani</td>\n",
       "      <td>85.54</td>\n",
       "      <td>0.949027</td>\n",
       "    </tr>\n",
       "    <tr>\n",
       "      <th>3</th>\n",
       "      <td>passage to india</td>\n",
       "      <td>vegetable makhani</td>\n",
       "      <td>88.14</td>\n",
       "      <td>0.944064</td>\n",
       "    </tr>\n",
       "    <tr>\n",
       "      <th>4</th>\n",
       "      <td>bawarchi indian cuisine</td>\n",
       "      <td>chicken makhani</td>\n",
       "      <td>74.03</td>\n",
       "      <td>0.943634</td>\n",
       "    </tr>\n",
       "    <tr>\n",
       "      <th>5</th>\n",
       "      <td>india palace</td>\n",
       "      <td>mushroom mattar makhani</td>\n",
       "      <td>89.71</td>\n",
       "      <td>0.943534</td>\n",
       "    </tr>\n",
       "    <tr>\n",
       "      <th>6</th>\n",
       "      <td>india palace</td>\n",
       "      <td>chicken makhani plus appear check offer</td>\n",
       "      <td>89.00</td>\n",
       "      <td>0.938943</td>\n",
       "    </tr>\n",
       "    <tr>\n",
       "      <th>7</th>\n",
       "      <td>dhaba indian bistro</td>\n",
       "      <td>choice indian fact indian highly recommend chi...</td>\n",
       "      <td>95.00</td>\n",
       "      <td>0.884755</td>\n",
       "    </tr>\n",
       "    <tr>\n",
       "      <th>8</th>\n",
       "      <td>passage to india</td>\n",
       "      <td>chicken saag</td>\n",
       "      <td>87.00</td>\n",
       "      <td>0.804523</td>\n",
       "    </tr>\n",
       "    <tr>\n",
       "      <th>9</th>\n",
       "      <td>star of india</td>\n",
       "      <td>year enjoy finally think write review especial...</td>\n",
       "      <td>92.00</td>\n",
       "      <td>0.794380</td>\n",
       "    </tr>\n",
       "  </tbody>\n",
       "</table>\n",
       "</div>"
      ],
      "text/plain": [
       "                      name                                               text  \\\n",
       "0           taste of india                                    chicken makhani   \n",
       "1      bombay indian grill                                     shrimp makhani   \n",
       "2             bombay grill                                    chicken makhani   \n",
       "3         passage to india                                  vegetable makhani   \n",
       "4  bawarchi indian cuisine                                    chicken makhani   \n",
       "5             india palace                            mushroom mattar makhani   \n",
       "6             india palace            chicken makhani plus appear check offer   \n",
       "7      dhaba indian bistro  choice indian fact indian highly recommend chi...   \n",
       "8         passage to india                                       chicken saag   \n",
       "9            star of india  year enjoy finally think write review especial...   \n",
       "\n",
       "   popularity_score  similarity_score  \n",
       "0             87.15          0.955585  \n",
       "1             90.35          0.953731  \n",
       "2             85.54          0.949027  \n",
       "3             88.14          0.944064  \n",
       "4             74.03          0.943634  \n",
       "5             89.71          0.943534  \n",
       "6             89.00          0.938943  \n",
       "7             95.00          0.884755  \n",
       "8             87.00          0.804523  \n",
       "9             92.00          0.794380  "
      ]
     },
     "execution_count": 1189,
     "metadata": {},
     "output_type": "execute_result"
    }
   ],
   "source": [
    "models = {'text': text_model, 'desc': menu_desc_model, 'title': menu_title_model}\n",
    "dfs = {'text': text_df, 'desc': menu_desc_df, 'title': menu_title_df}\n",
    "\n",
    "final_result_df = search('Indian Chicken Makhani', models, dfs)\n",
    "final_result_df"
   ]
  },
  {
   "cell_type": "markdown",
   "metadata": {},
   "source": [
    "## TF-IDF Model"
   ]
  },
  {
   "cell_type": "code",
   "execution_count": 234,
   "metadata": {},
   "outputs": [],
   "source": [
    "from gensim.models import TfidfModel\n",
    "from gensim.corpora import Dictionary\n",
    "from gensim import similarities \n",
    "\n",
    "dct = Dictionary(doc.words for doc in text_docs)  # fit dictionary\n",
    "corpus = [dct.doc2bow(doc.words) for doc in text_docs]  # convert dataset to BoW format\n",
    "model_tfidf = TfidfModel(corpus)  # fit model"
   ]
  },
  {
   "cell_type": "code",
   "execution_count": 235,
   "metadata": {},
   "outputs": [
    {
     "name": "stdout",
     "output_type": "stream",
     "text": [
      "Document  0  :  p.m. super bowl sunday close weak wonder hard rock die\n",
      "Bag of words representation of document  0  :  [(0, 1), (1, 1), (2, 1), (3, 1), (4, 1), (5, 1), (6, 1), (7, 1), (8, 1), (9, 1)]\n"
     ]
    }
   ],
   "source": [
    "# Sample output\n",
    "index = 0\n",
    "print(\"Document \",index, \" : \", text_data[text_docs[index].index] ) \n",
    "print(\"Bag of words representation of document \", index, \" : \", corpus[index])"
   ]
  },
  {
   "cell_type": "markdown",
   "metadata": {},
   "source": [
    "## Similarity matrix between a list of key words"
   ]
  },
  {
   "cell_type": "code",
   "execution_count": 282,
   "metadata": {},
   "outputs": [],
   "source": [
    "#Create similarity matrix between doc and tokens\n",
    "\n",
    "# Preprocess query\n",
    "query = expand_contractions(\"korean bulgogi food\") # to ensure vocab uniformity with w2v vocab\n",
    "query = tokenize(query) # lowercase, lemmatizes, and removes stop word\n",
    "query = re.sub(' +', ' ', query) # Remove extra whitespace\n",
    "\n",
    "tokens = query.split()\n",
    "index = similarities.MatrixSimilarity([dct.doc2bow(tokens)],num_features=len(dct))"
   ]
  },
  {
   "cell_type": "code",
   "execution_count": 283,
   "metadata": {},
   "outputs": [],
   "source": [
    "similarity=np.zeros((len(text_docs))) # Create indices with default value as 0\n",
    "maxsim = 0\n",
    "for i, doc in enumerate(text_docs):\n",
    "    similarity[i] = index[dct.doc2bow(doc.words)]\n",
    "\n",
    "topn = np.argsort(-similarity)[:10] # Get top 10 indices that has highest value"
   ]
  },
  {
   "cell_type": "code",
   "execution_count": 284,
   "metadata": {},
   "outputs": [
    {
     "data": {
      "text/html": [
       "<div>\n",
       "<style scoped>\n",
       "    .dataframe tbody tr th:only-of-type {\n",
       "        vertical-align: middle;\n",
       "    }\n",
       "\n",
       "    .dataframe tbody tr th {\n",
       "        vertical-align: top;\n",
       "    }\n",
       "\n",
       "    .dataframe thead th {\n",
       "        text-align: right;\n",
       "    }\n",
       "</style>\n",
       "<table border=\"1\" class=\"dataframe\">\n",
       "  <thead>\n",
       "    <tr style=\"text-align: right;\">\n",
       "      <th></th>\n",
       "      <th>name</th>\n",
       "      <th>text</th>\n",
       "      <th>popularity_score</th>\n",
       "      <th>similarity_score</th>\n",
       "    </tr>\n",
       "  </thead>\n",
       "  <tbody>\n",
       "    <tr>\n",
       "      <th>0</th>\n",
       "      <td>good fella korean bistro</td>\n",
       "      <td>this cute feel traditional korean bibimbap tas...</td>\n",
       "      <td>96.0</td>\n",
       "      <td>0.55</td>\n",
       "    </tr>\n",
       "    <tr>\n",
       "      <th>1</th>\n",
       "      <td>oishii bento</td>\n",
       "      <td>spicy pork bulgogi bulgogi way</td>\n",
       "      <td>95.0</td>\n",
       "      <td>0.53</td>\n",
       "    </tr>\n",
       "    <tr>\n",
       "      <th>2</th>\n",
       "      <td>oishii bento</td>\n",
       "      <td>use go pitt want affordable korean korean rest...</td>\n",
       "      <td>95.0</td>\n",
       "      <td>0.52</td>\n",
       "    </tr>\n",
       "    <tr>\n",
       "      <th>3</th>\n",
       "      <td>korea garden</td>\n",
       "      <td>favorite korean pittsburgh delicious decent ko...</td>\n",
       "      <td>84.0</td>\n",
       "      <td>0.51</td>\n",
       "    </tr>\n",
       "    <tr>\n",
       "      <th>4</th>\n",
       "      <td>honey pig</td>\n",
       "      <td>all korean</td>\n",
       "      <td>82.0</td>\n",
       "      <td>0.50</td>\n",
       "    </tr>\n",
       "    <tr>\n",
       "      <th>5</th>\n",
       "      <td>manna korean bbq</td>\n",
       "      <td>favorite find far vegas amazing korean comfort...</td>\n",
       "      <td>98.0</td>\n",
       "      <td>0.50</td>\n",
       "    </tr>\n",
       "    <tr>\n",
       "      <th>6</th>\n",
       "      <td>honey pig</td>\n",
       "      <td>all korean</td>\n",
       "      <td>82.0</td>\n",
       "      <td>0.50</td>\n",
       "    </tr>\n",
       "    <tr>\n",
       "      <th>7</th>\n",
       "      <td>sakana</td>\n",
       "      <td>korean sushi</td>\n",
       "      <td>93.0</td>\n",
       "      <td>0.50</td>\n",
       "    </tr>\n",
       "    <tr>\n",
       "      <th>8</th>\n",
       "      <td>good fella korean bistro</td>\n",
       "      <td>for small las vegas surprised honestly review ...</td>\n",
       "      <td>96.0</td>\n",
       "      <td>0.49</td>\n",
       "    </tr>\n",
       "    <tr>\n",
       "      <th>9</th>\n",
       "      <td>good fella korean bistro</td>\n",
       "      <td>very korean the kimchi pancake beef bulgogi su...</td>\n",
       "      <td>96.0</td>\n",
       "      <td>0.49</td>\n",
       "    </tr>\n",
       "  </tbody>\n",
       "</table>\n",
       "</div>"
      ],
      "text/plain": [
       "                       name  \\\n",
       "0  good fella korean bistro   \n",
       "1              oishii bento   \n",
       "2              oishii bento   \n",
       "3              korea garden   \n",
       "4                 honey pig   \n",
       "5          manna korean bbq   \n",
       "6                 honey pig   \n",
       "7                    sakana   \n",
       "8  good fella korean bistro   \n",
       "9  good fella korean bistro   \n",
       "\n",
       "                                                text  popularity_score  \\\n",
       "0  this cute feel traditional korean bibimbap tas...              96.0   \n",
       "1                     spicy pork bulgogi bulgogi way              95.0   \n",
       "2  use go pitt want affordable korean korean rest...              95.0   \n",
       "3  favorite korean pittsburgh delicious decent ko...              84.0   \n",
       "4                                         all korean              82.0   \n",
       "5  favorite find far vegas amazing korean comfort...              98.0   \n",
       "6                                         all korean              82.0   \n",
       "7                                       korean sushi              93.0   \n",
       "8  for small las vegas surprised honestly review ...              96.0   \n",
       "9  very korean the kimchi pancake beef bulgogi su...              96.0   \n",
       "\n",
       "   similarity_score  \n",
       "0              0.55  \n",
       "1              0.53  \n",
       "2              0.52  \n",
       "3              0.51  \n",
       "4              0.50  \n",
       "5              0.50  \n",
       "6              0.50  \n",
       "7              0.50  \n",
       "8              0.49  \n",
       "9              0.49  "
      ]
     },
     "execution_count": 284,
     "metadata": {},
     "output_type": "execute_result"
    }
   ],
   "source": [
    "names = []\n",
    "words = []\n",
    "pop_scores = []\n",
    "sim_scores = []\n",
    "\n",
    "for i in topn:\n",
    "    #docsim = text_docs[np.argmax(similarity)]\n",
    "    docsim = text_docs[i]\n",
    "    \n",
    "    names.append(docsim.name)\n",
    "    words.append(' '.join(docsim.words))\n",
    "    pop_scores.append(docsim.popularity_score)\n",
    "    sim_scores.append(round(similarity[i], 2))\n",
    "\n",
    "data = {'name': names, 'text': words, 'popularity_score': pop_scores, 'similarity_score': sim_scores}\n",
    "tfidf_result_df = pd.DataFrame(data)\n",
    "\n",
    "tfidf_result_df"
   ]
  }
 ],
 "metadata": {
  "kernelspec": {
   "display_name": "Python 3",
   "language": "python",
   "name": "python3"
  },
  "language_info": {
   "codemirror_mode": {
    "name": "ipython",
    "version": 3
   },
   "file_extension": ".py",
   "mimetype": "text/x-python",
   "name": "python",
   "nbconvert_exporter": "python",
   "pygments_lexer": "ipython3",
   "version": "3.8.5"
  }
 },
 "nbformat": 4,
 "nbformat_minor": 4
}
